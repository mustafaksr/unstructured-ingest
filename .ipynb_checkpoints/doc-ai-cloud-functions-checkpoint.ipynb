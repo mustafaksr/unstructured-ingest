{
 "cells": [
  {
   "cell_type": "code",
   "execution_count": 1,
   "id": "39b10b96-5a09-4844-b34d-92b24d2a8554",
   "metadata": {},
   "outputs": [],
   "source": [
    "field=\"$ 8 591,16 $ 859,12 $ 9\""
   ]
  },
  {
   "cell_type": "code",
   "execution_count": 2,
   "id": "d2391026-a9f4-4fe3-b073-f8de94bf3d09",
   "metadata": {},
   "outputs": [
    {
     "data": {
      "text/plain": [
       "['', ' 8 591,16 ', ' 859,12 ', ' 9']"
      ]
     },
     "execution_count": 2,
     "metadata": {},
     "output_type": "execute_result"
    }
   ],
   "source": [
    "field.split(\"$\")"
   ]
  },
  {
   "cell_type": "code",
   "execution_count": null,
   "id": "2292bdde-8637-4a8f-8db9-435b4d4fb13f",
   "metadata": {},
   "outputs": [],
   "source": []
  }
 ],
 "metadata": {
  "kernelspec": {
   "display_name": "Python 3 (ipykernel)",
   "language": "python",
   "name": "python3"
  },
  "language_info": {
   "codemirror_mode": {
    "name": "ipython",
    "version": 3
   },
   "file_extension": ".py",
   "mimetype": "text/x-python",
   "name": "python",
   "nbconvert_exporter": "python",
   "pygments_lexer": "ipython3",
   "version": "3.9.13"
  }
 },
 "nbformat": 4,
 "nbformat_minor": 5
}
